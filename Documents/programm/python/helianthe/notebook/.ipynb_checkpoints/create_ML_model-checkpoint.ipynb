{
 "cells": [
  {
   "cell_type": "code",
   "execution_count": 2,
   "id": "32e10ebf-83fe-44d2-96fd-dd00541565ca",
   "metadata": {},
   "outputs": [],
   "source": [
    "import pandas as pd\n",
    "import numpy as np\n",
    "from datetime import datetime"
   ]
  },
  {
   "cell_type": "code",
   "execution_count": 3,
   "id": "dd746f6e-df0f-4381-8850-fb22a04b80e8",
   "metadata": {},
   "outputs": [],
   "source": [
    "df_holiday_data = pd.read_csv(\"../data/reshape_dataset/holiday_data.csv\")\n",
    "df_sales_data = pd.read_csv(\"../data/reshape_dataset/sales_data.csv\")\n",
    "df_weather_data = pd.read_csv(\"../data/reshape_dataset/weather_data.csv\")"
   ]
  },
  {
   "cell_type": "code",
   "execution_count": 4,
   "id": "38132123-5368-4410-a266-5c026ed7c9dd",
   "metadata": {},
   "outputs": [
    {
     "name": "stdout",
     "output_type": "stream",
     "text": [
      "730\n",
      "730\n",
      "730\n"
     ]
    }
   ],
   "source": [
    "df_weather_data['date'] = pd.to_datetime(df_weather_data['date'], format='%Y/%m/%d')\n",
    "df_weather_data = df_weather_data.query('date < \"2023-01-01\"') \n",
    "df_sales_data['date'] = pd.to_datetime(df_sales_data['date'], format='%Y/%m/%d')\n",
    "df_holiday_data['date'] = pd.to_datetime(df_holiday_data['date'], format='%Y/%m/%d')\n",
    "print(len(df_weather_data['date']))\n",
    "print(len(df_sales_data['date']))\n",
    "print(len(df_holiday_data['date']))"
   ]
  },
  {
   "cell_type": "code",
   "execution_count": 6,
   "id": "0d3ad108-eecd-4281-953a-3a272a9b6605",
   "metadata": {},
   "outputs": [],
   "source": [
    "df_merge = pd.merge(df_weather_data, df_holiday_data)\n",
    "df_merge['store_holiday'] = df_sales_data['store_horiday']"
   ]
  },
  {
   "cell_type": "code",
   "execution_count": 16,
   "id": "7d2a74d1-e4e3-4389-b9ca-4776fc8827f1",
   "metadata": {},
   "outputs": [],
   "source": [
    "X = np.array(df_merge.loc[:,\"min_temp\":\"holiday_status\"], dtype='float64')\n",
    "y = np.array(df_sales_data['sales'])\n",
    "X = np.nan_to_num(X, copy=False)"
   ]
  },
  {
   "cell_type": "code",
   "execution_count": 23,
   "id": "63e51eed-1fbe-4677-90b9-2582ad00ab6e",
   "metadata": {},
   "outputs": [],
   "source": [
    "# モジュールを読み込む\n",
    "from sklearn.model_selection import train_test_split\n",
    "from pygam import LinearGAM\n",
    "\n",
    "# ラベル付きデータをトレーニングセット (X_train, y_train)とテストセット (X_test, y_test)に分割\n",
    "X_train, X_test, y_train, y_test = train_test_split(X, y, test_size=.05, shuffle=False)"
   ]
  },
  {
   "cell_type": "code",
   "execution_count": 24,
   "id": "f57105a8-fbd8-434e-ab36-92e3218017c7",
   "metadata": {},
   "outputs": [
    {
     "name": "stdout",
     "output_type": "stream",
     "text": [
      "[[ 3.1 10.5  3.4 ...  5.  12.   1. ]\n",
      " [ 2.8 11.8  4.6 ...  4.  12.   0. ]\n",
      " [ 2.9 13.7  5.2 ...  3.  12.   0. ]\n",
      " ...\n",
      " [ 0.8  9.6  1.8 ...  1.   2.   0. ]\n",
      " [ 3.6 11.   4.8 ...  0.   2.   0. ]\n",
      " [ 4.4 16.3  5.4 ...  6.   2.   0. ]]\n",
      "LinearGAM                                                                                                 \n",
      "=============================================== ==========================================================\n",
      "Distribution:                        NormalDist Effective DoF:                                    281.0456\n",
      "Link Function:                     IdentityLink Log Likelihood:                                -14093.0981\n",
      "Number of Samples:                          693 AIC:                                            28750.2874\n",
      "                                                AICc:                                            29139.754\n",
      "                                                GCV:                                        862111241.6441\n",
      "                                                Scale:                                      270943889.4448\n",
      "                                                Pseudo R-Squared:                                   0.8352\n",
      "==========================================================================================================\n",
      "Feature Function                  Lambda               Rank         EDoF         P > x        Sig. Code   \n",
      "================================= ==================== ============ ============ ============ ============\n",
      "s(0)                              [0.6]                20                        2.56e-01                 \n",
      "s(1)                              [0.6]                20                        1.90e-02     *           \n",
      "s(2)                              [0.6]                20                        2.35e-01                 \n",
      "s(3)                              [0.6]                20                        7.96e-01                 \n",
      "s(4)                              [0.6]                20                        7.18e-01                 \n",
      "s(5)                              [0.6]                20                        1.82e-01                 \n",
      "s(6)                              [0.6]                20                        1.89e-01                 \n",
      "s(7)                              [0.6]                20                        6.38e-02     .           \n",
      "s(8)                              [0.6]                20                        1.67e-01                 \n",
      "s(9)                              [0.6]                20                        3.84e-01                 \n",
      "s(10)                             [0.6]                20                        2.72e-02     *           \n",
      "s(11)                             [0.6]                20                        5.39e-02     .           \n",
      "s(12)                             [0.6]                20                        3.42e-02     *           \n",
      "s(13)                             [0.6]                20                        5.83e-01                 \n",
      "s(14)                             [0.6]                20                        3.34e-01                 \n",
      "s(15)                             [0.6]                20                        6.63e-01                 \n",
      "s(16)                             [0.6]                20                        5.69e-02     .           \n",
      "s(17)                             [0.6]                20                        5.35e-01                 \n",
      "s(18)                             [0.6]                20                        7.15e-01                 \n",
      "s(19)                             [0.6]                20                        6.78e-01                 \n",
      "s(20)                             [0.6]                20                        6.99e-02     .           \n",
      "s(21)                             [0.6]                20                        3.42e-01                 \n",
      "s(22)                             [0.6]                20                        6.88e-01                 \n",
      "s(23)                             [0.6]                20                        6.93e-01                 \n",
      "s(24)                             [0.6]                20                        9.24e-01                 \n",
      "s(25)                             [0.6]                20                        4.01e-01                 \n",
      "s(26)                             [0.6]                20                        2.09e-01                 \n",
      "s(27)                             [0.6]                20                        7.80e-05     ***         \n",
      "s(28)                             [0.6]                20                        3.71e-02     *           \n",
      "s(29)                             [0.6]                20                        3.68e-01                 \n",
      "s(30)                             [0.6]                20                        2.60e-01                 \n",
      "s(31)                             [0.6]                20                        6.44e-02     .           \n",
      "s(32)                             [0.6]                20                        3.33e-01                 \n",
      "s(33)                             [0.6]                20                        1.11e-16     ***         \n",
      "s(34)                             [0.6]                20                        3.08e-01                 \n",
      "s(35)                             [0.6]                20                        6.68e-01                 \n",
      "s(36)                             [0.6]                20                        6.41e-01                 \n",
      "s(37)                             [0.6]                20                        8.92e-01                 \n",
      "s(38)                             [0.6]                20                        3.81e-01                 \n",
      "s(39)                             [0.6]                20                        8.93e-01                 \n",
      "s(40)                             [0.6]                20                        2.67e-01                 \n",
      "s(41)                             [0.6]                20                        1.11e-16     ***         \n",
      "s(42)                             [0.6]                20                        1.11e-16     ***         \n",
      "s(43)                             [0.6]                20                        1.11e-16     ***         \n",
      "s(44)                             [0.6]                20                        1.11e-16     ***         \n",
      "s(45)                             [0.6]                20                        1.11e-16     ***         \n",
      "s(46)                             [0.6]                20                        7.26e-01                 \n",
      "s(47)                             [0.6]                20                        6.38e-01                 \n",
      "s(48)                             [0.6]                20                        1.11e-16     ***         \n",
      "s(49)                             [0.6]                20                        2.00e-01                 \n",
      "s(50)                             [0.6]                20                        1.11e-16     ***         \n",
      "s(51)                             [0.6]                20                        6.11e-06     ***         \n",
      "s(52)                             [0.6]                20                        1.11e-16     ***         \n",
      "intercept                                              1                         2.43e-13     ***         \n",
      "==========================================================================================================\n",
      "Significance codes:  0 '***' 0.001 '**' 0.01 '*' 0.05 '.' 0.1 ' ' 1\n",
      "\n",
      "WARNING: Fitting splines and a linear function to a feature introduces a model identifiability problem\n",
      "         which can cause p-values to appear significant when they are not.\n",
      "\n",
      "WARNING: p-values calculated in this manner behave correctly for un-penalized models or models with\n",
      "         known smoothing parameters, but when smoothing parameters have been estimated, the p-values\n",
      "         are typically lower than they should be, meaning that the tests reject the null too readily.\n"
     ]
    },
    {
     "name": "stderr",
     "output_type": "stream",
     "text": [
      "<ipython-input-24-368fdc6644a8>:3: UserWarning: KNOWN BUG: p-values computed in this summary are likely much smaller than they should be. \n",
      " \n",
      "Please do not make inferences based on these values! \n",
      "\n",
      "Collaborate on a solution, and stay up to date at: \n",
      "github.com/dswah/pyGAM/issues/163 \n",
      "\n",
      "  gam.summary()\n"
     ]
    }
   ],
   "source": [
    "print(X_train)\n",
    "gam = LinearGAM().fit(X_train,y_train)\n",
    "gam.summary()"
   ]
  },
  {
   "cell_type": "code",
   "execution_count": 25,
   "id": "8ec5854a-5e26-436b-9295-683d039a83fc",
   "metadata": {},
   "outputs": [],
   "source": [
    "predict_Y = gam.predict(X_test)"
   ]
  },
  {
   "cell_type": "code",
   "execution_count": 28,
   "id": "269af8d3-9be8-495e-9c7d-a89787b6b455",
   "metadata": {},
   "outputs": [
    {
     "data": {
      "image/png": "[encoded data removed]",
      "text/plain": [
       "<Figure size 432x288 with 1 Axes>"
      ]
     },
     "metadata": {},
     "output_type": "display_data"
    }
   ],
   "source": [
    "import matplotlib.pyplot as plt\n",
    "\n",
    "x = list(range(len(X_test)))\n",
    "\n",
    "fig = plt.figure(figsize = (6,4), facecolor='lightblue')\n",
    "\n",
    "plt.plot(x, predict_Y, color=\"b\", label = \"predict\")\n",
    "plt.plot(x, y_test, color=\"r\", label = \"actually\")\n",
    "\n",
    "plt.show()"
   ]
  },
  {
   "cell_type": "code",
   "execution_count": null,
   "id": "b0731269-d554-4d6a-92ba-66262c293e29",
   "metadata": {},
   "outputs": [],
   "source": []
  },
  {
   "cell_type": "code",
   "execution_count": null,
   "id": "8f9bf581-7be0-4b66-87de-5381fbc2c847",
   "metadata": {},
   "outputs": [],
   "source": []
  }
 ],
 "metadata": {
  "kernelspec": {
   "display_name": "Python 3",
   "language": "python",
   "name": "python3"
  },
  "language_info": {
   "codemirror_mode": {
    "name": "ipython",
    "version": 3
   },
   "file_extension": ".py",
   "mimetype": "text/x-python",
   "name": "python",
   "nbconvert_exporter": "python",
   "pygments_lexer": "ipython3",
   "version": "3.8.5"
  }
 },
 "nbformat": 4,
 "nbformat_minor": 5
}
