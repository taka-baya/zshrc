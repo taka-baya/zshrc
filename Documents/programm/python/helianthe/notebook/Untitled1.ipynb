{
 "cells": [
  {
   "cell_type": "markdown",
   "id": "74c89a27-b95f-47ea-a07f-2bcd8b5d5bfb",
   "metadata": {},
   "source": [
    "## フィッシャー検定をやってみる\n",
    "\n",
    "表内の数値は観測度数とする。\n",
    "\n",
    "||Aさん|Bさん|\n",
    "|--|--|--|\n",
    "|勝利|4|60|\n",
    "|敗北|1|40|\n",
    "\n",
    "この時、帰無仮説 $H_{0}$ は「AさんとBさんの勝率は統計的に関連性が無い」とします。\n",
    "つまり、回数と勝率は関連性が無いとします。\n",
    "※帰無仮説が成り立たなければ対立仮説 $H_{1}$ 「AさんとBさんの勝率は関連性(どちらかが優れている)があると言えます」\n",
    "。\n",
    "また、帰無仮説を棄却する判断基準の「有意水準 $a$ 」を $a = 0.05$ とする。"
   ]
  },
  {
   "cell_type": "code",
   "execution_count": 21,
   "id": "fffe6b88-35c7-460e-b95d-48c72c1339fa",
   "metadata": {},
   "outputs": [],
   "source": [
    "import scipy.stats as st \n",
    "\n",
    "data = [[10, 1], [600, 400]]\n",
    "_, p = st.fisher_exact(data)"
   ]
  },
  {
   "cell_type": "code",
   "execution_count": 22,
   "id": "79702eb2-bb92-4660-aa15-5783bd48028d",
   "metadata": {},
   "outputs": [
    {
     "name": "stdout",
     "output_type": "stream",
     "text": [
      "p = 0.058150949662469115\n"
     ]
    }
   ],
   "source": [
    "print(f\"p = {p}\")"
   ]
  },
  {
   "cell_type": "markdown",
   "id": "17ecd558-fb0d-4841-a6b9-1a54fba6f610",
   "metadata": {},
   "source": [
    "実行結果は p = 0.646≥ $a$ 0.05 となるので帰無仮説を採択する。\n",
    "よって、統計的に「AさんとBさんの勝率は統計的に関連性が無い」つまり、AさんとBさんどちらが優れているかは断言できない"
   ]
  },
  {
   "cell_type": "code",
   "execution_count": null,
   "id": "0eaeebac-f119-4357-a181-20c703e0229a",
   "metadata": {},
   "outputs": [],
   "source": []
  }
 ],
 "metadata": {
  "kernelspec": {
   "display_name": "Python 3",
   "language": "python",
   "name": "python3"
  },
  "language_info": {
   "codemirror_mode": {
    "name": "ipython",
    "version": 3
   },
   "file_extension": ".py",
   "mimetype": "text/x-python",
   "name": "python",
   "nbconvert_exporter": "python",
   "pygments_lexer": "ipython3",
   "version": "3.8.5"
  }
 },
 "nbformat": 4,
 "nbformat_minor": 5
}
