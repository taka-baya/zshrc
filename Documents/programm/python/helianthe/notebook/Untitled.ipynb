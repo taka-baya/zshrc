{
 "cells": [
  {
   "cell_type": "code",
   "execution_count": 22,
   "id": "aadffe72-1a41-4051-9f4d-4f64068df7af",
   "metadata": {},
   "outputs": [
    {
     "name": "stdout",
     "output_type": "stream",
     "text": [
      "2020/1/1\n",
      "2022/01/01\n"
     ]
    }
   ],
   "source": [
    "import os\n",
    "from flask import Flask, render_template, request\n",
    "import requests\n",
    "import urllib.request\n",
    "from bs4 import BeautifulSoup\n",
    "\n",
    "app = Flask(__name__)\n",
    "\n",
    "def getw(): #今日の天気スクレイピング\n",
    "    #対象のサイトURL\n",
    "    url = \"https://tenki.jp/forecast/3/16/4410/13112/\"\n",
    "    #インスタンス作成\n",
    "    res = urllib.request.urlopen(url)\n",
    "    soup = BeautifulSoup(res, 'html.parser')\n",
    "    #対象の要素\n",
    "    location = soup.find_all(\"h3\", class_=\"bottom-style date-set\")\n",
    "    weather = soup.find_all(\"p\", class_=\"weather-telop\")\n",
    "    temp = soup.find_all(\"dd\", class_=\"high-temp temp\")\n",
    "    low_temp = soup.find_all(\"dd\", class_=\"low-temp temp\")\n",
    "    tds = soup.select(\"tr.rain-probability td\")\n",
    "    hini = soup.find_all(\"h3\", class_=\"left-style\")\n",
    "\n",
    "    tenki = \"\\n\" + hini[0].getText()\n",
    "    location = \"の\" + location[0].getText().replace(\"10日間\",\"\") + \"は「\"\n",
    "    weather = weather[0].getText() + \"」。\\n\\n\"\n",
    "    kion = \"最高気温は\" + temp[0].getText() + \"\\n\"\n",
    "    low_kion = \"最低気温は\" + low_temp[0].getText()\n",
    "    rain1 = \"\\n\\n時間ごとの降水確率は\\n00-06時  \" + tds[0].getText()\n",
    "    rain2 = \"\\n06-12時  \" + tds[1].getText()\n",
    "    rain3 = \"\\n12-18時  \" + tds[2].getText()\n",
    "    rain4 = \"\\n18-24時  \" + tds[3].getText() + \"\\nです。\"\n",
    "\n",
    "    return_text = tenki + location + weather + kion + low_kion + rain1 + rain2 + rain3 + rain4\n",
    "    return return_text\n",
    "\n",
    "# リクエストを受け付ける関数\n",
    "@app.route('/', methods=['GET'])\n",
    "def alert_message():\n",
    "    # 俺宛のアクセストークン\n",
    "    line_notify_token = 'UCFOChhBQLAhKrzGgIgvmk5Ielwi42LMDUith2N1QvM'\n",
    "    line_notify_api = 'https://notify-api.line.me/api/notify'\n",
    "    message = getw()\n",
    "\n",
    "    payload = {'message': message}\n",
    "    headers = {'Authorization': 'Bearer ' + line_notify_token}  # 発行したトークン\n",
    "    line_notify = requests.post(line_notify_api, data=payload, headers=headers)\n",
    "\n",
    "\n",
    "if __name__ == '__main__':\n",
    "    #ローカル実行時はCloud Shell推奨の8080ポートを使用する\n",
    "    app.run(debug=True, host=\"0.0.0.0\", port=int(os.environ.get(\"PORT\", 8080)))"
   ]
  },
  {
   "cell_type": "code",
   "execution_count": null,
   "id": "656d6942-64d7-4769-abdc-3fd190996291",
   "metadata": {},
   "outputs": [],
   "source": []
  }
 ],
 "metadata": {
  "kernelspec": {
   "display_name": "Python 3",
   "language": "python",
   "name": "python3"
  },
  "language_info": {
   "codemirror_mode": {
    "name": "ipython",
    "version": 3
   },
   "file_extension": ".py",
   "mimetype": "text/x-python",
   "name": "python",
   "nbconvert_exporter": "python",
   "pygments_lexer": "ipython3",
   "version": "3.8.5"
  }
 },
 "nbformat": 4,
 "nbformat_minor": 5
}
