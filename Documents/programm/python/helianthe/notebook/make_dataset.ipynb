{
 "cells": [
  {
   "cell_type": "code",
   "execution_count": 29,
   "id": "769b1e6c-e7c9-4aaf-824e-6b05957b53b1",
   "metadata": {},
   "outputs": [],
   "source": [
    "import pandas as pd\n",
    "import numpy as np\n",
    "from datetime import datetime, timedelta\n",
    "from dateutil.relativedelta import relativedelta"
   ]
  },
  {
   "cell_type": "code",
   "execution_count": 30,
   "id": "82be3b8b-6a0e-4e7a-a302-339beda59190",
   "metadata": {},
   "outputs": [],
   "source": [
    "csvfile_path = \"../data/holiday_data/{}.csv\"\n",
    "df_2021 = pd.read_csv(csvfile_path.format('2021', encoding='shift_jis'), header=None, names=['date', 'week', 'holiday_name'])\n",
    "df_2022 = pd.read_csv(csvfile_path.format('2022', encoding='shift_jis'), header=None, names=['date', 'week', 'holiday_name'])"
   ]
  },
  {
   "cell_type": "code",
   "execution_count": 31,
   "id": "777b6b3e-4d33-4542-8c5d-6b2cf81a8c24",
   "metadata": {},
   "outputs": [],
   "source": [
    "df = pd.concat([df_2021, df_2022], axis=0, ignore_index=True)"
   ]
  },
  {
   "cell_type": "code",
   "execution_count": 32,
   "id": "16bf2c3a-eeb4-41cd-acf8-9de8172c9034",
   "metadata": {},
   "outputs": [],
   "source": [
    "# 日付のリスト生成()\n",
    "date_list = [datetime(2021, 1, 1) + timedelta(days=i) for i in range(730)]\n",
    "date_str_list = [d.strftime(\"%Y/%m/%d\") for d in date_list]\n",
    "df_date = pd.DataFrame({\"date\":date_str_list})"
   ]
  },
  {
   "cell_type": "code",
   "execution_count": 33,
   "id": "0aa2e20d-5f88-41a2-b3d1-34c027672cac",
   "metadata": {},
   "outputs": [
    {
     "name": "stdout",
     "output_type": "stream",
     "text": [
      "[1, 1, 0, 0, 0, 0, 0, 0, 0, 0, 1, 0, 0, 0, 0, 0, 0, 0, 0, 0, 0, 0, 0, 0, 0, 0, 0, 0, 0, 0, 0, 0, 0, 0, 0, 0, 0, 0, 0, 0, 0, 1, 0, 0, 0, 0, 0, 0, 0, 0, 0, 0, 0, 1, 0, 0, 0, 0, 0, 0, 0, 0, 0, 0, 0, 0, 0, 0, 0, 0, 0, 0, 0, 0, 0, 0, 0, 0, 1, 0, 0, 0, 0, 0, 0, 0, 0, 0, 0, 0, 0, 0, 0, 0, 0, 0, 0, 0, 0, 0, 0, 0, 0, 0, 0, 0, 0, 0, 0, 0, 0, 0, 0, 0, 0, 0, 0, 0, 1, 0, 0, 0, 1, 1, 1, 0, 0, 0, 0, 0, 0, 0, 0, 0, 0, 0, 0, 0, 0, 0, 0, 0, 0, 0, 0, 0, 0, 0, 0, 0, 0, 0, 0, 0, 0, 0, 0, 0, 0, 0, 0, 0, 0, 0, 0, 0, 0, 0, 0, 0, 0, 0, 0, 0, 0, 0, 0, 0, 0, 0, 0, 0, 0, 0, 0, 0, 0, 0, 0, 0, 0, 0, 0, 0, 0, 0, 0, 0, 0, 0, 0, 0, 1, 1, 0, 0, 0, 0, 0, 0, 0, 0, 0, 0, 0, 0, 0, 0, 0, 1, 1, 0, 0, 0, 0, 0, 0, 0, 0, 0, 0, 0, 0, 0, 0, 0, 0, 0, 0, 0, 0, 0, 0, 0, 0, 0, 0, 0, 0, 0, 0, 0, 0, 0, 0, 0, 0, 0, 0, 0, 0, 0, 1, 0, 0, 1, 0, 0, 0, 0, 0, 0, 0, 0, 0, 0, 0, 0, 0, 0, 0, 0, 0, 0, 0, 0, 0, 0, 0, 0, 0, 0, 0, 0, 0, 0, 0, 0, 0, 0, 0, 0, 0, 0, 0, 0, 1, 0, 0, 0, 0, 0, 0, 0, 0, 0, 0, 0, 0, 0, 0, 0, 0, 0, 0, 0, 1, 0, 0, 0, 0, 0, 0, 0, 0, 0, 0, 0, 0, 0, 0, 0, 0, 0, 0, 0, 0, 0, 0, 0, 0, 0, 0, 0, 0, 0, 0, 0, 0, 0, 0, 0, 0, 0, 1, 1, 1, 0, 0, 0, 0, 0, 0, 0, 1, 0, 0, 0, 0, 0, 0, 0, 0, 0, 0, 0, 0, 0, 0, 0, 0, 0, 0, 0, 0, 0, 0, 0, 0, 0, 0, 0, 0, 0, 0, 0, 1, 0, 0, 0, 0, 0, 0, 0, 0, 0, 0, 0, 1, 0, 0, 0, 0, 0, 0, 0, 0, 0, 0, 0, 0, 0, 0, 0, 0, 0, 0, 0, 0, 0, 0, 0, 0, 0, 1, 0, 0, 0, 0, 0, 0, 0, 0, 0, 0, 0, 0, 0, 0, 0, 0, 0, 0, 0, 0, 0, 0, 0, 0, 0, 0, 0, 0, 0, 0, 0, 0, 0, 0, 0, 0, 0, 0, 1, 0, 0, 0, 1, 1, 1, 0, 0, 0, 0, 0, 0, 0, 0, 0, 0, 0, 0, 0, 0, 0, 0, 0, 0, 0, 0, 0, 0, 0, 0, 0, 0, 0, 0, 0, 0, 0, 0, 0, 0, 0, 0, 0, 0, 0, 0, 0, 0, 0, 0, 0, 0, 0, 0, 0, 0, 0, 0, 0, 0, 0, 0, 0, 0, 0, 0, 0, 0, 0, 0, 0, 0, 0, 0, 0, 0, 0, 0, 0, 1, 0, 0, 0, 0, 0, 0, 0, 0, 0, 0, 0, 0, 0, 0, 0, 0, 0, 0, 0, 0, 0, 0, 0, 1, 0, 0, 0, 0, 0, 0, 0, 0, 0, 0, 0, 0, 0, 0, 0, 0, 0, 0, 0, 0, 0, 0, 0, 0, 0, 0, 0, 0, 0, 0, 0, 0, 0, 0, 0, 0, 0, 0, 1, 0, 0, 0, 1, 0, 0, 0, 0, 0, 0, 0, 0, 0, 0, 0, 0, 0, 0, 0, 0, 1, 0, 0, 0, 0, 0, 0, 0, 0, 0, 0, 0, 0, 0, 0, 0, 0, 0, 0, 0, 0, 0, 0, 0, 1, 0, 0, 0, 0, 0, 0, 0, 0, 0, 0, 0, 0, 0, 0, 0, 0, 0, 0, 0, 0, 0, 0, 0, 0, 0, 0, 0, 0, 0, 0, 0, 0, 0, 0, 0, 0, 0, 0, 0, 0, 0, 0, 0, 0, 0, 0, 0, 0, 0, 0, 0, 0, 0, 0, 0, 0, 0, 1]\n"
     ]
    }
   ],
   "source": [
    "holiday_status = []\n",
    "for date in df_date['date']:\n",
    "    flag = 0\n",
    "    for holiday_date in df['date']:\n",
    "        if pd.to_datetime(date, format=\"%Y/%m/%d\") == pd.to_datetime(holiday_date, format=\"%Y/%m/%d\"):\n",
    "            flag = 1\n",
    "            holiday_status.append(1)\n",
    "    \n",
    "    if flag == 0:\n",
    "        holiday_status.append(0)"
   ]
  },
  {
   "cell_type": "code",
   "execution_count": 35,
   "id": "e4a1c616-2581-4bb8-8da6-028831f03cbc",
   "metadata": {},
   "outputs": [],
   "source": [
    "pp = df_date[\"date\"]\n",
    "tmp_week = []\n",
    "\n",
    "for i in range(len(pp)):\n",
    "    #print(pp[i])\n",
    "    d = datetime.strptime(pp[i], \"%Y/%m/%d\")\n",
    "    tmp.append(d.weekday())\n",
    "    \n",
    "#tmp\n",
    "df_date[\"weekday\"] = tmp_week"
   ]
  },
  {
   "cell_type": "code",
   "execution_count": 42,
   "id": "38b14378-613b-49d6-8f67-a8a23eef35a1",
   "metadata": {},
   "outputs": [],
   "source": [
    "pp = pd.to_datetime(df_date[\"date\"], format=\"%Y/%m/%d\").dt.month\n",
    "df_date[\"month\"] = pp"
   ]
  },
  {
   "cell_type": "code",
   "execution_count": 44,
   "id": "dd571ef9-7129-4b3b-b59a-bac70aca99e7",
   "metadata": {},
   "outputs": [],
   "source": [
    "df_date[\"holiday_status\"] = holiday_status"
   ]
  },
  {
   "cell_type": "code",
   "execution_count": 47,
   "id": "b02b2580-92a5-47f9-8519-96365908f2c4",
   "metadata": {},
   "outputs": [],
   "source": [
    "df_date.to_csv(\"../data/reshape_dataset/holiday_data.csv\", index = False)"
   ]
  },
  {
   "cell_type": "code",
   "execution_count": null,
   "id": "fad014b2-6809-4d22-9c13-47a3bca4f6fc",
   "metadata": {},
   "outputs": [],
   "source": []
  },
  {
   "cell_type": "code",
   "execution_count": null,
   "id": "3fa2e812-c665-4584-af3b-d5cb0f191257",
   "metadata": {},
   "outputs": [],
   "source": []
  },
  {
   "cell_type": "code",
   "execution_count": null,
   "id": "7060ff45-ef3b-4519-9281-cf2765d99e95",
   "metadata": {},
   "outputs": [],
   "source": []
  },
  {
   "cell_type": "code",
   "execution_count": null,
   "id": "168d7988-0873-4eab-baf1-d8d8225bda57",
   "metadata": {},
   "outputs": [],
   "source": []
  },
  {
   "cell_type": "code",
   "execution_count": null,
   "id": "648f6a24-1d8b-4e0b-bbc4-42e0313b8837",
   "metadata": {},
   "outputs": [],
   "source": []
  },
  {
   "cell_type": "code",
   "execution_count": null,
   "id": "9f45b580-dd6b-4a19-8b2c-975470475643",
   "metadata": {},
   "outputs": [],
   "source": []
  },
  {
   "cell_type": "code",
   "execution_count": null,
   "id": "97775a43-1cd5-4f19-baca-c99ed0b681af",
   "metadata": {},
   "outputs": [],
   "source": []
  },
  {
   "cell_type": "code",
   "execution_count": null,
   "id": "53f962f9-1e9b-404a-828b-caf263770911",
   "metadata": {},
   "outputs": [],
   "source": []
  },
  {
   "cell_type": "code",
   "execution_count": null,
   "id": "ce28684b-4263-4e71-8273-82098bd3eebf",
   "metadata": {},
   "outputs": [],
   "source": []
  },
  {
   "cell_type": "code",
   "execution_count": null,
   "id": "53c2f6ac-dea2-4b3a-b2d2-90a66f8708e8",
   "metadata": {},
   "outputs": [],
   "source": []
  },
  {
   "cell_type": "code",
   "execution_count": null,
   "id": "12a8a2f2-6905-4958-b7e4-5d4da9de0165",
   "metadata": {},
   "outputs": [],
   "source": []
  },
  {
   "cell_type": "code",
   "execution_count": null,
   "id": "043939ba-6283-42a6-ad99-43a20248b677",
   "metadata": {},
   "outputs": [],
   "source": []
  },
  {
   "cell_type": "code",
   "execution_count": null,
   "id": "5ef9947f-220e-4d3d-8021-b16e4cb2f0d9",
   "metadata": {},
   "outputs": [],
   "source": []
  },
  {
   "cell_type": "code",
   "execution_count": null,
   "id": "01238d55-283d-4520-a5f6-4d9717f5bed4",
   "metadata": {},
   "outputs": [],
   "source": []
  },
  {
   "cell_type": "code",
   "execution_count": null,
   "id": "bd23c9d2-1c71-4a44-9ee1-e764f6e9758f",
   "metadata": {},
   "outputs": [],
   "source": []
  },
  {
   "cell_type": "code",
   "execution_count": null,
   "id": "a3d4c669-28c3-4eba-87e2-b85e4d42c85b",
   "metadata": {},
   "outputs": [],
   "source": []
  },
  {
   "cell_type": "code",
   "execution_count": null,
   "id": "76e6e5d4-96d4-4aed-b707-602b5956d746",
   "metadata": {},
   "outputs": [],
   "source": []
  },
  {
   "cell_type": "code",
   "execution_count": null,
   "id": "f8bad1dc-10b7-41b2-8292-a2b6896d6b58",
   "metadata": {},
   "outputs": [],
   "source": []
  },
  {
   "cell_type": "code",
   "execution_count": null,
   "id": "784de9ab-7c37-4654-8707-f2b1ba209b5e",
   "metadata": {},
   "outputs": [],
   "source": []
  },
  {
   "cell_type": "code",
   "execution_count": null,
   "id": "d42687d0-b5a8-4512-9403-8130fbb97546",
   "metadata": {},
   "outputs": [],
   "source": []
  },
  {
   "cell_type": "code",
   "execution_count": null,
   "id": "f747a5c5-9eaa-4f79-bc30-f832ff60983a",
   "metadata": {},
   "outputs": [],
   "source": []
  },
  {
   "cell_type": "code",
   "execution_count": null,
   "id": "e5c4d98a-17dc-453e-8a03-59702ac7bb20",
   "metadata": {},
   "outputs": [],
   "source": []
  },
  {
   "cell_type": "code",
   "execution_count": null,
   "id": "61cfd3d6-9b5b-4add-ab81-e66eadef97fa",
   "metadata": {},
   "outputs": [],
   "source": []
  },
  {
   "cell_type": "code",
   "execution_count": null,
   "id": "edf9b734-025b-483b-8210-9bd50b91f4f1",
   "metadata": {},
   "outputs": [],
   "source": []
  },
  {
   "cell_type": "code",
   "execution_count": null,
   "id": "5490717f-bade-4ff7-a0ea-f08128ec5427",
   "metadata": {},
   "outputs": [],
   "source": []
  },
  {
   "cell_type": "code",
   "execution_count": null,
   "id": "0d271b74-0fe5-4cee-8c8f-28f61e06a999",
   "metadata": {},
   "outputs": [],
   "source": []
  },
  {
   "cell_type": "code",
   "execution_count": null,
   "id": "3f4886bf-0b84-404d-9e1d-3ef512a8e750",
   "metadata": {},
   "outputs": [],
   "source": []
  },
  {
   "cell_type": "code",
   "execution_count": null,
   "id": "615b9373-c815-4ab6-9d1d-6a28c6911588",
   "metadata": {},
   "outputs": [],
   "source": []
  },
  {
   "cell_type": "code",
   "execution_count": null,
   "id": "1a811648-9f40-4863-ad70-20ff69f66cd1",
   "metadata": {},
   "outputs": [],
   "source": []
  },
  {
   "cell_type": "code",
   "execution_count": null,
   "id": "196d2195-160d-4835-b0e9-10dd862fb6dd",
   "metadata": {},
   "outputs": [],
   "source": []
  },
  {
   "cell_type": "code",
   "execution_count": null,
   "id": "834cefed-c7e4-45c2-a833-81ef2f694b0f",
   "metadata": {},
   "outputs": [],
   "source": []
  },
  {
   "cell_type": "code",
   "execution_count": null,
   "id": "4dd641e3-fed5-463d-92fa-fa268521380f",
   "metadata": {},
   "outputs": [],
   "source": []
  },
  {
   "cell_type": "code",
   "execution_count": null,
   "id": "b1174715-f8ff-426e-a1ae-8646aa9196e5",
   "metadata": {},
   "outputs": [],
   "source": []
  },
  {
   "cell_type": "code",
   "execution_count": null,
   "id": "988aa570-2c56-4e07-8980-4b4854b375ca",
   "metadata": {},
   "outputs": [],
   "source": []
  },
  {
   "cell_type": "code",
   "execution_count": null,
   "id": "a3b230b3-6c15-4a7e-b0f9-b61c60c71e74",
   "metadata": {},
   "outputs": [],
   "source": []
  },
  {
   "cell_type": "code",
   "execution_count": null,
   "id": "16aaf8d8-8551-47fc-9e73-d65f9acd2b9f",
   "metadata": {},
   "outputs": [],
   "source": []
  },
  {
   "cell_type": "code",
   "execution_count": null,
   "id": "0c8a7949-38c4-4ada-b1c5-aaa006c953ff",
   "metadata": {},
   "outputs": [],
   "source": []
  },
  {
   "cell_type": "code",
   "execution_count": null,
   "id": "0a08a0a0-db99-44ab-93c0-762c70594d74",
   "metadata": {},
   "outputs": [],
   "source": []
  },
  {
   "cell_type": "code",
   "execution_count": null,
   "id": "9bc83b10-2486-43b4-908b-cab3cfa64185",
   "metadata": {},
   "outputs": [],
   "source": []
  },
  {
   "cell_type": "code",
   "execution_count": null,
   "id": "08b8601e-0126-4be2-ba0e-ac4ba12facce",
   "metadata": {},
   "outputs": [],
   "source": []
  },
  {
   "cell_type": "code",
   "execution_count": null,
   "id": "0558aba7-688b-4bda-a9db-604a669a4345",
   "metadata": {},
   "outputs": [],
   "source": []
  },
  {
   "cell_type": "code",
   "execution_count": null,
   "id": "9dda1194-9dc7-41cf-a2bf-f8ebac0036d7",
   "metadata": {},
   "outputs": [],
   "source": []
  },
  {
   "cell_type": "code",
   "execution_count": null,
   "id": "04a9c27f-7fff-469b-b90b-48aa1b42ef33",
   "metadata": {},
   "outputs": [],
   "source": []
  },
  {
   "cell_type": "code",
   "execution_count": null,
   "id": "4871cc24-d66b-4379-8354-bd16356c25f3",
   "metadata": {},
   "outputs": [],
   "source": []
  },
  {
   "cell_type": "code",
   "execution_count": null,
   "id": "96a4a408-f54d-44d8-8c0e-21eb4197a356",
   "metadata": {},
   "outputs": [],
   "source": []
  },
  {
   "cell_type": "code",
   "execution_count": null,
   "id": "3cad5051-5d18-46b1-91eb-d5f5509724a1",
   "metadata": {},
   "outputs": [],
   "source": []
  },
  {
   "cell_type": "code",
   "execution_count": null,
   "id": "cff2b294-c7bd-451d-8674-abb53059f649",
   "metadata": {},
   "outputs": [],
   "source": []
  },
  {
   "cell_type": "code",
   "execution_count": null,
   "id": "f7d44470-9d8a-4418-a27c-645fbbe601a0",
   "metadata": {},
   "outputs": [],
   "source": []
  },
  {
   "cell_type": "code",
   "execution_count": null,
   "id": "a9d00ca7-d7c0-4bd7-acce-4696a3b48eff",
   "metadata": {},
   "outputs": [],
   "source": []
  },
  {
   "cell_type": "code",
   "execution_count": null,
   "id": "c44fefcb-f985-43cc-a568-e1b4ff767376",
   "metadata": {},
   "outputs": [],
   "source": []
  },
  {
   "cell_type": "code",
   "execution_count": null,
   "id": "f2dc135f-e8ea-437a-9dc5-2c93a0265189",
   "metadata": {},
   "outputs": [],
   "source": []
  },
  {
   "cell_type": "code",
   "execution_count": null,
   "id": "0a97310d-9fbb-4734-b5b4-48dafb27a347",
   "metadata": {},
   "outputs": [],
   "source": []
  },
  {
   "cell_type": "code",
   "execution_count": null,
   "id": "5eefdc54-0b6c-4644-89ed-4925e7395a80",
   "metadata": {},
   "outputs": [],
   "source": []
  },
  {
   "cell_type": "code",
   "execution_count": null,
   "id": "bfe958e6-4ac1-4956-882f-bed046f59abd",
   "metadata": {},
   "outputs": [],
   "source": []
  },
  {
   "cell_type": "code",
   "execution_count": null,
   "id": "710f9ab1-4dfa-45da-9212-1043a133a5ee",
   "metadata": {},
   "outputs": [],
   "source": []
  },
  {
   "cell_type": "code",
   "execution_count": null,
   "id": "ce3c0d0e-f5d0-4f25-8e76-3d279ebc087e",
   "metadata": {},
   "outputs": [],
   "source": []
  },
  {
   "cell_type": "code",
   "execution_count": null,
   "id": "bdace90e-aaff-4d1d-bd0f-0db650020089",
   "metadata": {},
   "outputs": [],
   "source": []
  },
  {
   "cell_type": "code",
   "execution_count": null,
   "id": "18abc41d-ac7d-46b4-b274-ed49d107433d",
   "metadata": {},
   "outputs": [],
   "source": []
  },
  {
   "cell_type": "code",
   "execution_count": null,
   "id": "023ceb88-2019-4e5c-a79f-1b4ac0961530",
   "metadata": {},
   "outputs": [],
   "source": []
  },
  {
   "cell_type": "code",
   "execution_count": null,
   "id": "627ab5a3-a1a9-4b37-94de-46055ad1e7b8",
   "metadata": {},
   "outputs": [],
   "source": []
  },
  {
   "cell_type": "code",
   "execution_count": null,
   "id": "f1dd87bd-8075-4867-8a17-24ac5ad5df19",
   "metadata": {},
   "outputs": [],
   "source": []
  },
  {
   "cell_type": "code",
   "execution_count": null,
   "id": "94b33ba7-5c42-449b-93bb-523df3e27b37",
   "metadata": {},
   "outputs": [],
   "source": []
  },
  {
   "cell_type": "code",
   "execution_count": null,
   "id": "814f64a2-af80-4916-bdb8-3a7a80f5d392",
   "metadata": {},
   "outputs": [],
   "source": []
  },
  {
   "cell_type": "code",
   "execution_count": null,
   "id": "f20801d2-eb5c-4e42-8b97-ee47a365ff24",
   "metadata": {},
   "outputs": [],
   "source": []
  },
  {
   "cell_type": "code",
   "execution_count": null,
   "id": "e1373692-9137-41d6-96ea-39f030d4c87d",
   "metadata": {},
   "outputs": [],
   "source": []
  },
  {
   "cell_type": "code",
   "execution_count": null,
   "id": "6f4f86f8-3b95-4c4c-a190-0973b9e9675f",
   "metadata": {},
   "outputs": [],
   "source": []
  },
  {
   "cell_type": "code",
   "execution_count": null,
   "id": "cc92dc02-74fa-4e86-bb73-bd3480f90aeb",
   "metadata": {},
   "outputs": [],
   "source": []
  },
  {
   "cell_type": "code",
   "execution_count": null,
   "id": "4c78e4b1-1a6a-4c78-b1d1-b721d8935878",
   "metadata": {},
   "outputs": [],
   "source": []
  },
  {
   "cell_type": "code",
   "execution_count": null,
   "id": "41af97d2-922f-4345-9b63-ad97602484b4",
   "metadata": {},
   "outputs": [],
   "source": []
  },
  {
   "cell_type": "code",
   "execution_count": null,
   "id": "871e79d1-651d-46c8-a0a8-9cf055300efb",
   "metadata": {},
   "outputs": [],
   "source": []
  },
  {
   "cell_type": "code",
   "execution_count": null,
   "id": "8ef23a48-bb04-488d-83f8-09874710f6d7",
   "metadata": {},
   "outputs": [],
   "source": []
  },
  {
   "cell_type": "code",
   "execution_count": null,
   "id": "fabe1a9f-68be-49a6-a5b6-650b160bc8b5",
   "metadata": {},
   "outputs": [],
   "source": []
  },
  {
   "cell_type": "code",
   "execution_count": null,
   "id": "5c7d2b57-2628-4b2b-9c33-fa85d8974d4d",
   "metadata": {},
   "outputs": [],
   "source": []
  },
  {
   "cell_type": "code",
   "execution_count": null,
   "id": "5359c5be-653f-41c0-887e-f213a9b44edf",
   "metadata": {},
   "outputs": [],
   "source": []
  },
  {
   "cell_type": "code",
   "execution_count": null,
   "id": "dfe20041-6ebd-4f77-a331-c1e1591a9265",
   "metadata": {},
   "outputs": [],
   "source": []
  },
  {
   "cell_type": "code",
   "execution_count": null,
   "id": "747eabe9-0ec6-482d-bb1a-24c615ace080",
   "metadata": {},
   "outputs": [],
   "source": []
  },
  {
   "cell_type": "code",
   "execution_count": null,
   "id": "e7faac27-88e1-4e26-8f73-43fd10946336",
   "metadata": {},
   "outputs": [],
   "source": []
  },
  {
   "cell_type": "code",
   "execution_count": null,
   "id": "73fae422-5536-4779-b68c-bc31f184d229",
   "metadata": {},
   "outputs": [],
   "source": []
  },
  {
   "cell_type": "code",
   "execution_count": null,
   "id": "15730c39-9080-446b-add4-967e8a44f3c7",
   "metadata": {},
   "outputs": [],
   "source": []
  },
  {
   "cell_type": "code",
   "execution_count": null,
   "id": "7a6f7d26-a431-4ccc-a9ff-5a7c77cddf2e",
   "metadata": {},
   "outputs": [],
   "source": []
  },
  {
   "cell_type": "code",
   "execution_count": null,
   "id": "1e08f03f-723c-4699-9500-68682d822225",
   "metadata": {},
   "outputs": [],
   "source": []
  },
  {
   "cell_type": "code",
   "execution_count": null,
   "id": "7a3a9631-7884-4665-a8c4-b36fbb286a15",
   "metadata": {},
   "outputs": [],
   "source": []
  },
  {
   "cell_type": "code",
   "execution_count": null,
   "id": "b0fbba00-c110-4156-8014-b5beff1b1b88",
   "metadata": {},
   "outputs": [],
   "source": []
  },
  {
   "cell_type": "code",
   "execution_count": null,
   "id": "bd40d3de-6570-4994-9a36-ce39355f9222",
   "metadata": {},
   "outputs": [],
   "source": []
  },
  {
   "cell_type": "code",
   "execution_count": null,
   "id": "dfe1e74e-67f8-4ef4-b68f-40ca243b7f37",
   "metadata": {},
   "outputs": [],
   "source": []
  },
  {
   "cell_type": "code",
   "execution_count": null,
   "id": "eb125445-7101-4af9-ad04-db8197da084b",
   "metadata": {},
   "outputs": [],
   "source": []
  },
  {
   "cell_type": "code",
   "execution_count": null,
   "id": "52967ef7-9d2d-45db-a61c-f7c6d0c33672",
   "metadata": {},
   "outputs": [],
   "source": []
  },
  {
   "cell_type": "code",
   "execution_count": null,
   "id": "c2d0178d-965e-4655-90c7-976e0e471747",
   "metadata": {},
   "outputs": [],
   "source": []
  },
  {
   "cell_type": "code",
   "execution_count": null,
   "id": "1e626006-26f8-4250-824a-0c4c4f53eb41",
   "metadata": {},
   "outputs": [],
   "source": []
  },
  {
   "cell_type": "code",
   "execution_count": null,
   "id": "69ba9040-9933-4300-8d65-8386b4c56f3b",
   "metadata": {},
   "outputs": [],
   "source": []
  },
  {
   "cell_type": "code",
   "execution_count": null,
   "id": "f2875b49-304a-41f6-8d93-8a2eccb82426",
   "metadata": {},
   "outputs": [],
   "source": []
  },
  {
   "cell_type": "code",
   "execution_count": null,
   "id": "3732b387-d442-471d-9dbf-1cec6065939a",
   "metadata": {},
   "outputs": [],
   "source": []
  },
  {
   "cell_type": "code",
   "execution_count": null,
   "id": "420c7531-e517-4432-b6c0-a86e04679c51",
   "metadata": {},
   "outputs": [],
   "source": []
  },
  {
   "cell_type": "code",
   "execution_count": null,
   "id": "9052f1b2-66c7-4883-9284-bd250a24b93a",
   "metadata": {},
   "outputs": [],
   "source": []
  },
  {
   "cell_type": "code",
   "execution_count": null,
   "id": "9b2b496f-0044-4900-a097-398b18806015",
   "metadata": {},
   "outputs": [],
   "source": []
  },
  {
   "cell_type": "code",
   "execution_count": null,
   "id": "b8d6ae2c-350a-45e0-83fa-e209c6ecf5f3",
   "metadata": {},
   "outputs": [],
   "source": []
  },
  {
   "cell_type": "code",
   "execution_count": null,
   "id": "dd116407-d546-4552-8462-ed097151515f",
   "metadata": {},
   "outputs": [],
   "source": []
  },
  {
   "cell_type": "code",
   "execution_count": null,
   "id": "6caa66b9-6bc6-4f9d-8508-f7dc6d56a2ae",
   "metadata": {},
   "outputs": [],
   "source": []
  },
  {
   "cell_type": "code",
   "execution_count": null,
   "id": "50f4fd10-3116-4538-98e0-24e30300aa6e",
   "metadata": {},
   "outputs": [],
   "source": []
  },
  {
   "cell_type": "code",
   "execution_count": null,
   "id": "3f0981f2-6848-4e8c-a28b-13f1ee9056f8",
   "metadata": {},
   "outputs": [],
   "source": []
  },
  {
   "cell_type": "code",
   "execution_count": null,
   "id": "7766ce3d-b55a-402d-a08a-a0a4231b27ed",
   "metadata": {},
   "outputs": [],
   "source": []
  },
  {
   "cell_type": "code",
   "execution_count": null,
   "id": "8f93ee03-87c5-46d7-b6c5-3d225d308992",
   "metadata": {},
   "outputs": [],
   "source": []
  },
  {
   "cell_type": "code",
   "execution_count": null,
   "id": "fa5ad85c-baef-4406-a2cd-b3f0655d7bdc",
   "metadata": {},
   "outputs": [],
   "source": []
  },
  {
   "cell_type": "code",
   "execution_count": null,
   "id": "85d64dca-1c0e-435c-b055-3ccdd1ad4d6e",
   "metadata": {},
   "outputs": [],
   "source": []
  },
  {
   "cell_type": "code",
   "execution_count": null,
   "id": "7d8afdbf-e0cb-433f-853e-6b50381babb9",
   "metadata": {},
   "outputs": [],
   "source": []
  },
  {
   "cell_type": "code",
   "execution_count": null,
   "id": "e559f223-5161-4f35-8cf4-61be77d20c19",
   "metadata": {},
   "outputs": [],
   "source": []
  },
  {
   "cell_type": "code",
   "execution_count": null,
   "id": "0ebf1fc8-6186-436b-97b9-6a36724aa0b3",
   "metadata": {},
   "outputs": [],
   "source": []
  },
  {
   "cell_type": "code",
   "execution_count": null,
   "id": "3b518cb7-8711-4309-8b4b-9612fdeb74c7",
   "metadata": {},
   "outputs": [],
   "source": []
  },
  {
   "cell_type": "code",
   "execution_count": null,
   "id": "ac047bef-08cc-4aba-a45c-37bc23792c23",
   "metadata": {},
   "outputs": [],
   "source": []
  },
  {
   "cell_type": "code",
   "execution_count": null,
   "id": "478e42ef-7463-4930-9edd-53ef32afcccf",
   "metadata": {},
   "outputs": [],
   "source": []
  },
  {
   "cell_type": "code",
   "execution_count": null,
   "id": "64affa7b-4bd3-4341-bea6-765099bd9092",
   "metadata": {},
   "outputs": [],
   "source": []
  },
  {
   "cell_type": "code",
   "execution_count": null,
   "id": "560be499-d055-4ec6-b620-86c60c9aada9",
   "metadata": {},
   "outputs": [],
   "source": []
  },
  {
   "cell_type": "code",
   "execution_count": null,
   "id": "1839bbbf-a3e0-4231-89e6-760e1272c282",
   "metadata": {},
   "outputs": [],
   "source": []
  },
  {
   "cell_type": "code",
   "execution_count": null,
   "id": "7ddd85ea-a06b-42d7-9e7c-6371f613bb0a",
   "metadata": {},
   "outputs": [],
   "source": []
  },
  {
   "cell_type": "code",
   "execution_count": null,
   "id": "d55fbb8b-e15c-485a-b9e3-92909d6a63c0",
   "metadata": {},
   "outputs": [],
   "source": []
  },
  {
   "cell_type": "code",
   "execution_count": null,
   "id": "2ce7db47-8f69-4c72-b61b-6c3e2c7e87e2",
   "metadata": {},
   "outputs": [],
   "source": []
  },
  {
   "cell_type": "code",
   "execution_count": null,
   "id": "b2c4d06f-a36b-4c0c-89ce-92333e3e9eaf",
   "metadata": {},
   "outputs": [],
   "source": []
  },
  {
   "cell_type": "code",
   "execution_count": null,
   "id": "17e494da-2cfb-4d6c-b63d-58a339178f32",
   "metadata": {},
   "outputs": [],
   "source": []
  },
  {
   "cell_type": "code",
   "execution_count": null,
   "id": "6d134036-85c7-4a67-93f4-b3b7ec5291e2",
   "metadata": {},
   "outputs": [],
   "source": []
  },
  {
   "cell_type": "code",
   "execution_count": null,
   "id": "b8b4fd35-3548-47bb-a34c-48849b732b90",
   "metadata": {},
   "outputs": [],
   "source": []
  },
  {
   "cell_type": "code",
   "execution_count": null,
   "id": "e0c7070c-3163-42f7-9ad2-b52a7ad56477",
   "metadata": {},
   "outputs": [],
   "source": []
  },
  {
   "cell_type": "code",
   "execution_count": null,
   "id": "aa3d9d8d-15b5-482e-9a3a-04f03562f3e3",
   "metadata": {},
   "outputs": [],
   "source": []
  },
  {
   "cell_type": "code",
   "execution_count": null,
   "id": "95cb665a-6939-4784-96d8-5a1a434aa005",
   "metadata": {},
   "outputs": [],
   "source": []
  },
  {
   "cell_type": "code",
   "execution_count": null,
   "id": "448c66a2-3736-45eb-b6ab-999bbaa60fe0",
   "metadata": {},
   "outputs": [],
   "source": []
  },
  {
   "cell_type": "code",
   "execution_count": null,
   "id": "30f96b64-1c4e-40c7-991f-f2e28dd0172f",
   "metadata": {},
   "outputs": [],
   "source": []
  },
  {
   "cell_type": "code",
   "execution_count": null,
   "id": "4259bc78-ed1e-4591-be7a-5cb1ce7a282f",
   "metadata": {},
   "outputs": [],
   "source": []
  },
  {
   "cell_type": "code",
   "execution_count": null,
   "id": "31336644-9fee-47b8-91e4-c5737192d60f",
   "metadata": {},
   "outputs": [],
   "source": []
  },
  {
   "cell_type": "code",
   "execution_count": null,
   "id": "406ac3f4-dc4e-49b0-afee-1f158d027406",
   "metadata": {},
   "outputs": [],
   "source": []
  },
  {
   "cell_type": "code",
   "execution_count": 7,
   "id": "9020d545-4d94-434f-b956-7f8c75f4b656",
   "metadata": {},
   "outputs": [
    {
     "data": {
      "text/plain": [
       "<bound method NDFrame.head of                          ダウンロードした時刻：2021/05/01 09:51:40\n",
       "0     ,世田谷,世田谷,世田谷,世田谷,世田谷,世田谷,世田谷,世田谷,世田谷,世田谷,世田谷,世...\n",
       "1     年月日時,気温(℃),気温(℃),気温(℃),天気,天気,天気,日照時間(時間),日照時間(...\n",
       "2     ,,品質情報,均質番号,,品質情報,均質番号,,品質情報,均質番号,,品質情報,均質番号,,...\n",
       "3     2020/11/1 1:00:00,,0,1,,0,1,,0,1,0.0,8,1,,0,1,...\n",
       "4     2020/11/1 2:00:00,,0,1,,0,1,,0,1,0.0,8,1,,0,1,...\n",
       "...                                                 ...\n",
       "1462  2020/12/31 20:00:00,,0,1,,0,1,,0,1,0.0,8,1,,0,...\n",
       "1463  2020/12/31 21:00:00,,0,1,,0,1,,0,1,0.0,8,1,,0,...\n",
       "1464  2020/12/31 22:00:00,,0,1,,0,1,,0,1,0.0,8,1,,0,...\n",
       "1465  2020/12/31 23:00:00,,0,1,,0,1,,0,1,0.0,8,1,,0,...\n",
       "1466  2021/1/1 00:00:00,,0,1,,0,1,,0,1,0.0,8,1,,0,1,...\n",
       "\n",
       "[1467 rows x 1 columns]>"
      ]
     },
     "execution_count": 7,
     "metadata": {},
     "output_type": "execute_result"
    }
   ],
   "source": [
    "weather_data.head"
   ]
  },
  {
   "cell_type": "code",
   "execution_count": null,
   "id": "4a18c45c-6221-46b9-989b-bc2f090008be",
   "metadata": {},
   "outputs": [],
   "source": []
  }
 ],
 "metadata": {
  "kernelspec": {
   "display_name": "Python 3",
   "language": "python",
   "name": "python3"
  },
  "language_info": {
   "codemirror_mode": {
    "name": "ipython",
    "version": 3
   },
   "file_extension": ".py",
   "mimetype": "text/x-python",
   "name": "python",
   "nbconvert_exporter": "python",
   "pygments_lexer": "ipython3",
   "version": "3.8.5"
  }
 },
 "nbformat": 4,
 "nbformat_minor": 5
}
